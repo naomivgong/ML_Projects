{
 "cells": [
  {
   "cell_type": "code",
   "execution_count": 105,
   "metadata": {},
   "outputs": [],
   "source": [
    "import torch\n",
    "import torch.nn as nn\n",
    "import torch.nn.functional as F #for activation functions\n",
    "from torch.optim import SGD  #gradient descent\n",
    "\n",
    "import matplotlib.pyplot as plt\n",
    "import seaborn as sns\n",
    "\n"
   ]
  },
  {
   "cell_type": "markdown",
   "metadata": {},
   "source": [
    "First we create an initialization for the weights and biases"
   ]
  },
  {
   "cell_type": "markdown",
   "metadata": {},
   "source": []
  },
  {
   "cell_type": "markdown",
   "metadata": {},
   "source": [
    "Now we need to connect the NN weights and bias to inputs and activations functions. \n",
    "We create another method called forward to pass through\n"
   ]
  },
  {
   "cell_type": "code",
   "execution_count": 106,
   "metadata": {},
   "outputs": [],
   "source": [
    "#with pytorch we start by creating a new class for a neural network\n",
    "\n",
    "#inherits from pytorch class called moduele\n",
    "class BasicNN(nn.Module): \n",
    "    #initializatoin method for parrent class\n",
    "    def __init__(self):\n",
    "        super().__init__()\n",
    "        #create new var for weight, make it a neural network parameter == give option to optimize, requires gradient = false\n",
    "        #since its a tensor neural network can take advantage of automatic differentian it provides\n",
    "        self.w00 = nn.Parameter(torch.tensor(1.7), requires_grad= False)\n",
    "        self.b00 = nn.Parameter(torch.tensor(-0.85), requires_grad= False)\n",
    "\n",
    "        self.w10 = nn.Parameter(torch.tensor(12.6), requires_grad= False)\n",
    "        self.b10 = nn.Parameter(torch.tensor(0), requires_grad= False)\n",
    "\n",
    "        self.w01 = nn.Parameter(torch.tensor(-40.8), requires_grad= False)\n",
    "        self.w11 = nn.Parameter(torch.tensor(2.70), requires_grad= False)\n",
    "\n",
    "        self.final_bias = nn.Parameter(torch.tensor(-16), requires_grad=False)\n",
    "\n",
    "    def forward(self, input):\n",
    "        input_to_top_relu = input * self.w00 + self.b00\n",
    "        top_relu_output = F.relu(input_to_top_relu)\n",
    "        scaled_top_relu = top_relu_output * self.w01\n",
    "\n",
    "        input_to_bottom_relu = input * self.w10 + self.b10\n",
    "        bottom_relu_output = F.relu(input_to_bottom_relu)\n",
    "        scaled_bottom_relu = bottom_relu_output * self.w11\n",
    "\n",
    "        input_to_final = scaled_bottom_relu + scaled_top_relu + self.final_bias\n",
    "\n",
    "        output = F.relu(input_to_final)\n",
    "        return output\n",
    "\n",
    "\n",
    "\n"
   ]
  },
  {
   "cell_type": "markdown",
   "metadata": {},
   "source": [
    "Testing our function with input"
   ]
  },
  {
   "cell_type": "code",
   "execution_count": 107,
   "metadata": {},
   "outputs": [
    {
     "data": {
      "text/plain": [
       "tensor([0.0000, 0.1000, 0.2000, 0.3000, 0.4000, 0.5000, 0.6000, 0.7000, 0.8000,\n",
       "        0.9000, 1.0000])"
      ]
     },
     "execution_count": 107,
     "metadata": {},
     "output_type": "execute_result"
    }
   ],
   "source": [
    "input_doses = torch.linspace(start = 0, end = 1, steps = 11)\n",
    "input_doses"
   ]
  },
  {
   "cell_type": "code",
   "execution_count": 108,
   "metadata": {},
   "outputs": [],
   "source": [
    "model = BasicNN()\n",
    "output_values = model(input_doses)"
   ]
  },
  {
   "cell_type": "markdown",
   "metadata": {},
   "source": [
    "Visualize the Output"
   ]
  },
  {
   "cell_type": "code",
   "execution_count": 109,
   "metadata": {},
   "outputs": [
    {
     "data": {
      "text/plain": [
       "Text(0.5, 0, 'Dosage')"
      ]
     },
     "execution_count": 109,
     "metadata": {},
     "output_type": "execute_result"
    },
    {
     "data": {
      "image/png": "[encoded data removed]",
      "text/plain": [
       "<Figure size 640x480 with 1 Axes>"
      ]
     },
     "metadata": {},
     "output_type": "display_data"
    }
   ],
   "source": [
    "sns.set(style = \"whitegrid\")\n",
    "sns.lineplot(x = input_doses, \n",
    "             y = output_values,\n",
    "             linewidth = 2.5)\n",
    "\n",
    "plt.ylabel(\"Efficiency\")\n",
    "plt.xlabel(\"Dosage\")"
   ]
  },
  {
   "cell_type": "markdown",
   "metadata": {},
   "source": [
    "Lets try to do it with backpropogation"
   ]
  },
  {
   "cell_type": "code",
   "execution_count": 110,
   "metadata": {},
   "outputs": [],
   "source": [
    "#with pytorch we start by creating a new class for a neural network\n",
    "\n",
    "#inherits from pytorch class called moduele\n",
    "class BasicNN_train(nn.Module): \n",
    "    #initializatoin method for parrent class\n",
    "    def __init__(self):\n",
    "        super().__init__()\n",
    "        #create new var for weight, make it a neural network parameter == give option to optimize, requires gradient = false\n",
    "        #since its a tensor neural network can take advantage of automatic differentian it provides\n",
    "        self.w00 = nn.Parameter(torch.tensor(1.7), requires_grad= False)\n",
    "        self.b00 = nn.Parameter(torch.tensor(-0.85), requires_grad= False)\n",
    "\n",
    "        self.w10 = nn.Parameter(torch.tensor(12.6), requires_grad= False)\n",
    "        self.b10 = nn.Parameter(torch.tensor(0), requires_grad= False)\n",
    "\n",
    "        self.w01 = nn.Parameter(torch.tensor(-40.8), requires_grad= False)\n",
    "        self.w11 = nn.Parameter(torch.tensor(2.70), requires_grad= False)\n",
    "\n",
    "        self.final_bias = nn.Parameter(torch.tensor(0.), requires_grad=True) #true = yes i wanna do back propogation\n",
    "\n",
    "    def forward(self, input):\n",
    "        input_to_top_relu = input * self.w00 + self.b00\n",
    "        top_relu_output = F.relu(input_to_top_relu)\n",
    "        scaled_top_relu = top_relu_output * self.w01\n",
    "\n",
    "        input_to_bottom_relu = input * self.w10 + self.b10\n",
    "        bottom_relu_output = F.relu(input_to_bottom_relu)\n",
    "        scaled_bottom_relu = bottom_relu_output * self.w11\n",
    "\n",
    "        input_to_final = scaled_bottom_relu + scaled_top_relu + self.final_bias\n",
    "\n",
    "        output = F.relu(input_to_final)\n",
    "        return output\n",
    "\n",
    "\n",
    "\n"
   ]
  },
  {
   "cell_type": "code",
   "execution_count": 111,
   "metadata": {},
   "outputs": [
    {
     "data": {
      "text/plain": [
       "<Axes: xlabel='None', ylabel='None'>"
      ]
     },
     "execution_count": 111,
     "metadata": {},
     "output_type": "execute_result"
    },
    {
     "data": {
      "image/png": "[encoded data removed]",
      "text/plain": [
       "<Figure size 640x480 with 1 Axes>"
      ]
     },
     "metadata": {},
     "output_type": "display_data"
    }
   ],
   "source": [
    "model = BasicNN_train()\n",
    "output_values = model(input_doses)\n",
    "sns.set(style = \"whitegrid\")\n",
    "#detach creates new tensor with only values -- we strip off the gradient from the values\n",
    "sns.lineplot(x = input_doses,\n",
    "             y = output_values.detach(),\n",
    "             linewidth = 2.5)"
   ]
  },
  {
   "cell_type": "markdown",
   "metadata": {},
   "source": [
    "We see that effectiveness is 17 -- wayy too high so we need to train our model"
   ]
  },
  {
   "cell_type": "code",
   "execution_count": 115,
   "metadata": {},
   "outputs": [],
   "source": [
    "inputs = torch.tensor([0., 0.5, 1.])\n",
    "labels = torch.tensor([0., 1., 0.])"
   ]
  },
  {
   "cell_type": "code",
   "execution_count": 117,
   "metadata": {},
   "outputs": [
    {
     "name": "stdout",
     "output_type": "stream",
     "text": [
      "Final bias, before optimizationParameter containing:\n",
      "tensor(-16.0375, requires_grad=True)\n",
      "\n",
      "Step:  0  Final Bias : Parameter containing:\n",
      "tensor(-16.0265, requires_grad=True) \n",
      "\n",
      "Step:  1  Final Bias : Parameter containing:\n",
      "tensor(-16.0232, requires_grad=True) \n",
      "\n",
      "Step:  2  Final Bias : Parameter containing:\n",
      "tensor(-16.0206, requires_grad=True) \n",
      "\n",
      "Step:  3  Final Bias : Parameter containing:\n",
      "tensor(-16.0184, requires_grad=True) \n",
      "\n",
      "Num Steps: 4\n",
      "loss:  7.129830191843212e-05\n",
      "Final Epoch:  4\n",
      "Final bias, after optimization  Parameter containing:\n",
      "tensor(-16.0184, requires_grad=True)\n"
     ]
    }
   ],
   "source": [
    "optimizer = SGD(model.parameters(), lr = 0.1)\n",
    "print(\"Final bias, before optimization\" + str(model.final_bias) + '\\n')\n",
    "\n",
    "\n",
    "for epoch in range(100):\n",
    "\n",
    "    total_loss = 0\n",
    "\n",
    "    for iteration in range(len(inputs)):\n",
    "        input_i = inputs[iteration]\n",
    "        label_i = labels[iteration]\n",
    "\n",
    "        output_i = model(input_i)\n",
    "        loss = (output_i -label_i)**2\n",
    "        \n",
    "        loss.backward() #keeps information on derivatives. It accumulates the iteratives from each input iteration \n",
    "\n",
    "        total_loss += float(loss)\n",
    "\n",
    "    if (total_loss < 0.0001):\n",
    "        print(\"Num Steps:\", epoch)\n",
    "        print(\"loss: \", total_loss)\n",
    "        print(\"Final Epoch: \", epoch)\n",
    "        break\n",
    "\n",
    "    optimizer.step()\n",
    "    optimizer.zero_grad()\n",
    "\n",
    "    print(\"Step: \", epoch, \" Final Bias :\", model.final_bias , '\\n')\n",
    "\n",
    "print(\"Final bias, after optimization \", model.final_bias)\n"
   ]
  }
 ],
 "metadata": {
  "kernelspec": {
   "display_name": "base",
   "language": "python",
   "name": "python3"
  },
  "language_info": {
   "codemirror_mode": {
    "name": "ipython",
    "version": 3
   },
   "file_extension": ".py",
   "mimetype": "text/x-python",
   "name": "python",
   "nbconvert_exporter": "python",
   "pygments_lexer": "ipython3",
   "version": "3.12.2"
  }
 },
 "nbformat": 4,
 "nbformat_minor": 2
}
