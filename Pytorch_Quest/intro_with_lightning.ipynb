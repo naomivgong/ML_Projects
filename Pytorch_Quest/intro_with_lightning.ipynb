{
 "cells": [
  {
   "cell_type": "code",
   "execution_count": 59,
   "metadata": {},
   "outputs": [],
   "source": [
    "import torch\n",
    "import torch.nn as nn\n",
    "import torch.nn.functional as F #for activation functions\n",
    "from torch.optim import SGD  #gradient descent\n",
    "import lightning as L\n",
    "\n",
    "import matplotlib.pyplot as plt\n",
    "import seaborn as sns\n"
   ]
  },
  {
   "cell_type": "markdown",
   "metadata": {},
   "source": [
    "Everything is the same except you inherit from Lightning module. However, we need to configure"
   ]
  },
  {
   "cell_type": "code",
   "execution_count": 60,
   "metadata": {},
   "outputs": [],
   "source": [
    "#with pytorch we start by creating a new class for a neural network\n",
    "\n",
    "#inherits from pytorch class called moduele\n",
    "class BasicNNLightning(L.LightningModule): \n",
    "    #initializatoin method for parrent class\n",
    "    def __init__(self):\n",
    "        super().__init__()\n",
    "        #create new var for weight, make it a neural network parameter == give option to optimize, requires gradient = false\n",
    "        #since its a tensor neural network can take advantage of automatic differentian it provides\n",
    "        self.w00 = nn.Parameter(torch.tensor(1.7), requires_grad= False)\n",
    "        self.b00 = nn.Parameter(torch.tensor(-0.85), requires_grad= False)\n",
    "\n",
    "        self.w10 = nn.Parameter(torch.tensor(12.6), requires_grad= False)\n",
    "        self.b10 = nn.Parameter(torch.tensor(0), requires_grad= False)\n",
    "\n",
    "        self.w01 = nn.Parameter(torch.tensor(-40.8), requires_grad= False)\n",
    "        self.w11 = nn.Parameter(torch.tensor(2.70), requires_grad= False)\n",
    "\n",
    "        self.final_bias = nn.Parameter(torch.tensor(-16.), requires_grad=True)\n",
    "        self.learning_rate = 0.01\n",
    "\n",
    "    def forward(self, input):\n",
    "        input_to_top_relu = input * self.w00 + self.b00\n",
    "        top_relu_output = F.relu(input_to_top_relu)\n",
    "        scaled_top_relu = top_relu_output * self.w01\n",
    "\n",
    "        input_to_bottom_relu = input * self.w10 + self.b10\n",
    "        bottom_relu_output = F.relu(input_to_bottom_relu)\n",
    "        scaled_bottom_relu = bottom_relu_output * self.w11\n",
    "\n",
    "        input_to_final = scaled_bottom_relu + scaled_top_relu + self.final_bias\n",
    "\n",
    "        output = F.relu(input_to_final)\n",
    "        return output\n",
    "\n",
    "    #optimizes nerual network\n",
    "    def configure_optimizers(self):\n",
    "        return SGD(self.parameters(), lr = self.learning_rate)\n",
    "    \n",
    "    def training_step(self, batch, batch_idx):\n",
    "        input_i ,label_i = batch\n",
    "        output_i = self.forward(input_i)\n",
    "        loss = (output_i -label_i)**2\n",
    "        return loss\n",
    "    \n",
    "\n"
   ]
  },
  {
   "cell_type": "code",
   "execution_count": 61,
   "metadata": {},
   "outputs": [
    {
     "data": {
      "text/plain": [
       "tensor([0.0000, 0.1000, 0.2000, 0.3000, 0.4000, 0.5000, 0.6000, 0.7000, 0.8000,\n",
       "        0.9000, 1.0000])"
      ]
     },
     "execution_count": 61,
     "metadata": {},
     "output_type": "execute_result"
    }
   ],
   "source": [
    "input_doses = torch.linspace(start = 0, end = 1, steps = 11)\n",
    "input_doses"
   ]
  },
  {
   "cell_type": "code",
   "execution_count": 62,
   "metadata": {},
   "outputs": [],
   "source": [
    "inputs = torch.tensor([0., 0.5, 1.])\n",
    "labels = torch.tensor([0., 1., 0.])"
   ]
  },
  {
   "cell_type": "code",
   "execution_count": 63,
   "metadata": {},
   "outputs": [],
   "source": [
    "from torch.utils.data import TensorDataset, DataLoader\n",
    "\n",
    "\n",
    "dataset = TensorDataset(inputs, labels)\n",
    "dataloader = DataLoader(dataset)"
   ]
  },
  {
   "cell_type": "code",
   "execution_count": 64,
   "metadata": {},
   "outputs": [
    {
     "name": "stdout",
     "output_type": "stream",
     "text": [
      "2.4.0\n"
     ]
    }
   ],
   "source": [
    "import lightning as L\n",
    "print(L.__version__)\n"
   ]
  },
  {
   "cell_type": "code",
   "execution_count": 65,
   "metadata": {},
   "outputs": [
    {
     "name": "stderr",
     "output_type": "stream",
     "text": [
      "GPU available: True (mps), used: True\n",
      "TPU available: False, using: 0 TPU cores\n",
      "HPU available: False, using: 0 HPUs\n",
      "/opt/anaconda3/lib/python3.12/site-packages/lightning/pytorch/trainer/connectors/data_connector.py:424: The 'train_dataloader' does not have many workers which may be a bottleneck. Consider increasing the value of the `num_workers` argument` to `num_workers=9` in the `DataLoader` to improve performance.\n",
      "/opt/anaconda3/lib/python3.12/site-packages/lightning/pytorch/loops/fit_loop.py:298: The number of training batches (3) is smaller than the logging interval Trainer(log_every_n_steps=50). Set a lower value for log_every_n_steps if you want to see logs for the training epoch.\n"
     ]
    },
    {
     "data": {
      "application/vnd.jupyter.widget-view+json": {
       "model_id": "b657c6a7406a4b2c80f76c0292e5f6c7",
       "version_major": 2,
       "version_minor": 0
      },
      "text/plain": [
       "Finding best initial lr:   0%|          | 0/100 [00:00<?, ?it/s]"
      ]
     },
     "metadata": {},
     "output_type": "display_data"
    },
    {
     "name": "stderr",
     "output_type": "stream",
     "text": [
      "`Trainer.fit` stopped: `max_steps=100` reached.\n",
      "Learning rate set to 0.0016595869074375606\n",
      "Restoring states from the checkpoint path at /Users/naomigong/Coding/ML Projects/Pytorch_Quest/.lr_find_b0c1a45e-0abd-4104-a98c-c0c4fec1b21c.ckpt\n",
      "Restored all states from the checkpoint at /Users/naomigong/Coding/ML Projects/Pytorch_Quest/.lr_find_b0c1a45e-0abd-4104-a98c-c0c4fec1b21c.ckpt\n"
     ]
    },
    {
     "name": "stdout",
     "output_type": "stream",
     "text": [
      "lr_find suggests 0.00166 for the learning rate\n"
     ]
    }
   ],
   "source": [
    "from lightning.pytorch import Trainer\n",
    "from lightning.pytorch.tuner import Tuner\n",
    "\n",
    "# Initialize the model\n",
    "model = BasicNNLightning()\n",
    "\n",
    "# Initialize the trainer\n",
    "trainer = Trainer(max_epochs=34)  # No need for L.Trainer; use Trainer directly\n",
    "\n",
    "# Initialize the tuner\n",
    "tuner = Tuner(trainer)  # No need for L.Tuner; use Tuner directly\n",
    "\n",
    "# Perform learning rate finding\n",
    "lr_find_results = tuner.lr_find(\n",
    "    model,\n",
    "    train_dataloaders=dataloader,  # Correct parameter name\n",
    "    min_lr=0.001,\n",
    "    max_lr=0.1,\n",
    "    early_stop_threshold=None\n",
    ")\n",
    "\n",
    "# Suggest a new learning rate\n",
    "new_lr = lr_find_results.suggestion()\n",
    "print(f\"lr_find suggests {new_lr:.5f} for the learning rate\")\n"
   ]
  },
  {
   "cell_type": "code",
   "execution_count": 66,
   "metadata": {},
   "outputs": [],
   "source": [
    "model.learning_rate = new_lr"
   ]
  },
  {
   "cell_type": "markdown",
   "metadata": {},
   "source": [
    "Now we train the model"
   ]
  },
  {
   "cell_type": "code",
   "execution_count": 67,
   "metadata": {},
   "outputs": [
    {
     "name": "stderr",
     "output_type": "stream",
     "text": [
      "\n",
      "  | Name         | Type | Params | Mode\n",
      "---------------------------------------------\n",
      "  | other params | n/a  | 7      | n/a \n",
      "---------------------------------------------\n",
      "1         Trainable params\n",
      "6         Non-trainable params\n",
      "7         Total params\n",
      "0.000     Total estimated model params size (MB)\n",
      "0         Modules in train mode\n",
      "0         Modules in eval mode\n",
      "/opt/anaconda3/lib/python3.12/site-packages/lightning/pytorch/trainer/connectors/data_connector.py:424: The 'train_dataloader' does not have many workers which may be a bottleneck. Consider increasing the value of the `num_workers` argument` to `num_workers=9` in the `DataLoader` to improve performance.\n",
      "/opt/anaconda3/lib/python3.12/site-packages/lightning/pytorch/loops/fit_loop.py:298: The number of training batches (3) is smaller than the logging interval Trainer(log_every_n_steps=50). Set a lower value for log_every_n_steps if you want to see logs for the training epoch.\n"
     ]
    },
    {
     "data": {
      "application/vnd.jupyter.widget-view+json": {
       "model_id": "0ce5801c23474b7e9e00bc8590fd6a1a",
       "version_major": 2,
       "version_minor": 0
      },
      "text/plain": [
       "Training: |          | 0/? [00:00<?, ?it/s]"
      ]
     },
     "metadata": {},
     "output_type": "display_data"
    },
    {
     "name": "stderr",
     "output_type": "stream",
     "text": [
      "`Trainer.fit` stopped: `max_epochs=34` reached.\n"
     ]
    }
   ],
   "source": [
    "#the trainer will call our model's configure optimizers <-- configure gradient descent with new lr\n",
    "#then it calls trainig_step and also calls optimizer.zero_grad, loss.backward() and optimizer.step. \n",
    "#it repeats by calling training_step\n",
    "#WITH LIGHTNING NO NEED FOR BIG LOOP\n",
    "trainer.fit(model, train_dataloaders= dataloader)"
   ]
  },
  {
   "cell_type": "code",
   "execution_count": 68,
   "metadata": {},
   "outputs": [
    {
     "name": "stdout",
     "output_type": "stream",
     "text": [
      "Parameter containing:\n",
      "tensor(-16.0011, requires_grad=True)\n"
     ]
    }
   ],
   "source": [
    "print(model.final_bias)"
   ]
  },
  {
   "cell_type": "code",
   "execution_count": 69,
   "metadata": {},
   "outputs": [
    {
     "data": {
      "text/plain": [
       "Text(0.5, 0, 'Dosage')"
      ]
     },
     "execution_count": 69,
     "metadata": {},
     "output_type": "execute_result"
    },
    {
     "data": {
      "image/png": "[encoded data removed]",
      "text/plain": [
       "<Figure size 640x480 with 1 Axes>"
      ]
     },
     "metadata": {},
     "output_type": "display_data"
    }
   ],
   "source": [
    "output_values = model(input_doses)\n",
    "\n",
    "sns.set(style = \"whitegrid\")\n",
    "sns.lineplot(x = input_doses, \n",
    "             y = output_values.detach(),\n",
    "             linewidth = 2.5)\n",
    "\n",
    "plt.ylabel(\"Efficiency\")\n",
    "plt.xlabel(\"Dosage\")"
   ]
  }
 ],
 "metadata": {
  "kernelspec": {
   "display_name": "base",
   "language": "python",
   "name": "python3"
  },
  "language_info": {
   "codemirror_mode": {
    "name": "ipython",
    "version": 3
   },
   "file_extension": ".py",
   "mimetype": "text/x-python",
   "name": "python",
   "nbconvert_exporter": "python",
   "pygments_lexer": "ipython3",
   "version": "3.12.2"
  }
 },
 "nbformat": 4,
 "nbformat_minor": 2
}
