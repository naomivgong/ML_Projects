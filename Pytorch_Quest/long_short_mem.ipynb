{
 "cells": [
  {
   "cell_type": "code",
   "execution_count": 1,
   "metadata": {},
   "outputs": [],
   "source": [
    "import torch\n",
    "import torch.nn as nn\n",
    "import torch.nn.functional as F #for activation functions\n",
    "from torch.optim import Adam  \n",
    "import lightning as L\n",
    "\n",
    "import matplotlib.pyplot as plt\n",
    "import seaborn as sns\n",
    "\n",
    "from torch.utils.data import DataLoader, TensorDataset"
   ]
  },
  {
   "cell_type": "code",
   "execution_count": 2,
   "metadata": {},
   "outputs": [],
   "source": [
    "class LSTMByHand(L.LightningModule):\n",
    "    #create and initalize weights and bias\n",
    "    def __init__(self):\n",
    "        super().__init__()\n",
    "        #will use normal distribution to select weight\n",
    "        mean = torch.tensor(0.0)\n",
    "        std = torch.tensor(1.0)\n",
    "        self.w1r1 = nn.Parameter(torch.normal(mean = mean , std = std), requires_grad = True)\n",
    "        self.w1r2 = nn.Parameter(torch.normal(mean = mean , std = std), requires_grad = True)\n",
    "        self.b1r1 = nn.Parameter(torch.tensor(0.), requires_grad = True)\n",
    "\n",
    "        self.wpr1 = nn.Parameter(torch.normal(mean = mean , std = std), requires_grad = True)\n",
    "        self.wpr2 = nn.Parameter(torch.normal(mean = mean , std = std), requires_grad = True)\n",
    "        self.bpr1 = nn.Parameter(torch.tensor(0.), requires_grad = True)\n",
    "\n",
    "        self.wp1 = nn.Parameter(torch.normal(mean = mean , std = std), requires_grad = True)\n",
    "        self.wp2 = nn.Parameter(torch.normal(mean = mean , std = std), requires_grad = True)\n",
    "        self.bp1 = nn.Parameter(torch.tensor(0.), requires_grad = True)\n",
    "\n",
    "        self.wo1 = nn.Parameter(torch.normal(mean = mean , std = std), requires_grad = True)\n",
    "        self.wo2 = nn.Parameter(torch.normal(mean = mean , std = std), requires_grad = True)\n",
    "        self.bo1 = nn.Parameter(torch.tensor(0.), requires_grad = True)\n",
    "\n",
    "    #do the lstm math\n",
    "    def lstm_unit(self, input_value, long_memory, short_memory):\n",
    "        #stage 1\n",
    "        long_remember_percent = torch.sigmoid((short_memory * self.w1r1) + (input_value*self.w1r2) + self.b1r1)\n",
    "\n",
    "        #compute potential long term memory\n",
    "        potential_remember_percent = torch.sigmoid((short_memory * self.wpr1) + (input_value * self.wpr2) + self.bpr1)\n",
    "        potential_memory = torch.tanh((short_memory * self.wp1) + (input_value * self.wp2) + self.bp1)\n",
    "\n",
    "        new_long_memory = long_memory * long_remember_percent + (potential_remember_percent * potential_memory)\n",
    "\n",
    "        output_percent = torch.sigmoid((short_memory * self.wo1) + (input_value * self.wo2) + self.bo1)\n",
    "\n",
    "        new_short_memory = torch.tanh(new_long_memory * output_percent)\n",
    "\n",
    "        return([new_long_memory, new_short_memory])\n",
    "    \n",
    "    #makes forward pass through lstm\n",
    "    def forward(self, input):\n",
    "        long_memory = 0\n",
    "        short_memory = 0\n",
    "        day1 = input[0]\n",
    "        day2 = input[1]\n",
    "        day3 = input[2]\n",
    "        day4 = input[3]\n",
    "\n",
    "        long_memory, short_memory = self.lstm_unit(day1, long_memory, short_memory)\n",
    "        long_memory, short_memory = self.lstm_unit(day2, long_memory, short_memory)\n",
    "        long_memory, short_memory = self.lstm_unit(day3, long_memory, short_memory)\n",
    "        long_memory, short_memory = self.lstm_unit(day4, long_memory, short_memory)\n",
    "\n",
    "        return short_memory\n",
    "    \n",
    "    #configure optimizer we wanna use\n",
    "    def configure_optimizers(self):\n",
    "        return Adam(self.parameters())\n",
    "\n",
    "    #also tells us how well we are doing\n",
    "    def training_step(self, batch, batch_idx):\n",
    "        input_i , label_i = batch\n",
    "        #make prediction with training data\n",
    "        output_i = self.forward(input_i[0])\n",
    "        loss = (output_i - label_i)**2\n",
    "        #log is part of lightning that is able to make files to store whatever it wants\n",
    "        self.log(\"train loss\", loss)\n",
    "\n",
    "        if (label_i == 0):\n",
    "            self.log(\"out_0\", output_i)\n",
    "        else:\n",
    "            self.log(\"out_1\", output_i)\n",
    "\n",
    "        return loss"
   ]
  },
  {
   "cell_type": "code",
   "execution_count": 3,
   "metadata": {},
   "outputs": [
    {
     "name": "stdout",
     "output_type": "stream",
     "text": [
      "\n",
      "Now lets compare the observed and predicted values\n",
      "Company A: Observed = 0, Predicted =  tensor(-0.0518, grad_fn=<TanhBackward0>)\n"
     ]
    }
   ],
   "source": [
    "model = LSTMByHand()\n",
    "print(\"\\nNow lets compare the observed and predicted values\")\n",
    "#remember model prints the predicted output\n",
    "#model returns tensor (the value we want( prediction) and gradient) <- detach strips gradient off\n",
    "print(\"Company A: Observed = 0, Predicted = \", model(torch.tensor([0., 0.5, 0.25, 1.]).detach()))\n"
   ]
  },
  {
   "cell_type": "markdown",
   "metadata": {},
   "source": [
    "- Close to 0 "
   ]
  },
  {
   "cell_type": "code",
   "execution_count": 4,
   "metadata": {},
   "outputs": [
    {
     "name": "stdout",
     "output_type": "stream",
     "text": [
      "\n",
      "Now lets compare the observed and predicted values\n",
      "Company B: Observed = 1, Predicted =  tensor(-0.0527, grad_fn=<TanhBackward0>)\n"
     ]
    }
   ],
   "source": [
    "print(\"\\nNow lets compare the observed and predicted values\")\n",
    "#remember model prints the predicted output\n",
    "#model returns tensor (the value we want( prediction) and gradient) <- detach strips gradient off\n",
    "print(\"Company B: Observed = 1, Predicted = \", model(torch.tensor([1., 0.5, 0.25, 1.]).detach()))\n"
   ]
  },
  {
   "cell_type": "markdown",
   "metadata": {},
   "source": [
    "Not close to 1 -- we need to train"
   ]
  },
  {
   "cell_type": "code",
   "execution_count": 5,
   "metadata": {},
   "outputs": [],
   "source": [
    "inputs = torch.tensor([[0., 0.5, 0.25, 1.], [1., 0.5, 0.25, 1.]])\n",
    "labels = torch.tensor([0., 1.])\n",
    "\n",
    "dataset = TensorDataset(inputs, labels)\n",
    "dataloader = DataLoader(dataset) #useful when we have a lot of data\n",
    "#datalaoder make it easy to access the data in batches\n",
    "#make it easy to shuffle the data each epoch\n",
    "#make it easy to use small fraction of data"
   ]
  },
  {
   "cell_type": "markdown",
   "metadata": {},
   "source": [
    "We will do backpropogation for every weight  and bias using the data from both companies for 2000 times at most\n"
   ]
  },
  {
   "cell_type": "code",
   "execution_count": 6,
   "metadata": {},
   "outputs": [
    {
     "name": "stderr",
     "output_type": "stream",
     "text": [
      "GPU available: True (mps), used: True\n",
      "TPU available: False, using: 0 TPU cores\n",
      "HPU available: False, using: 0 HPUs\n",
      "\n",
      "  | Name         | Type | Params | Mode\n",
      "---------------------------------------------\n",
      "  | other params | n/a  | 12     | n/a \n",
      "---------------------------------------------\n",
      "12        Trainable params\n",
      "0         Non-trainable params\n",
      "12        Total params\n",
      "0.000     Total estimated model params size (MB)\n",
      "0         Modules in train mode\n",
      "0         Modules in eval mode\n",
      "/opt/anaconda3/lib/python3.12/site-packages/lightning/pytorch/trainer/connectors/data_connector.py:424: The 'train_dataloader' does not have many workers which may be a bottleneck. Consider increasing the value of the `num_workers` argument` to `num_workers=9` in the `DataLoader` to improve performance.\n",
      "/opt/anaconda3/lib/python3.12/site-packages/lightning/pytorch/loops/fit_loop.py:298: The number of training batches (2) is smaller than the logging interval Trainer(log_every_n_steps=50). Set a lower value for log_every_n_steps if you want to see logs for the training epoch.\n"
     ]
    },
    {
     "data": {
      "application/vnd.jupyter.widget-view+json": {
       "model_id": "d38d85d28e954e22b6c12b447f74638c",
       "version_major": 2,
       "version_minor": 0
      },
      "text/plain": [
       "Training: |          | 0/? [00:00<?, ?it/s]"
      ]
     },
     "metadata": {},
     "output_type": "display_data"
    },
    {
     "name": "stderr",
     "output_type": "stream",
     "text": [
      "`Trainer.fit` stopped: `max_epochs=2000` reached.\n"
     ]
    }
   ],
   "source": [
    "trainer = L.Trainer(max_epochs = 2000)\n",
    "trainer.fit(model, train_dataloaders= dataloader)"
   ]
  },
  {
   "cell_type": "code",
   "execution_count": 7,
   "metadata": {},
   "outputs": [
    {
     "name": "stdout",
     "output_type": "stream",
     "text": [
      "\n",
      " Now let's compare the observed and predicted values...\n",
      "Company A: Observed = 0, Predicted = tensor(0.4994, grad_fn=<TanhBackward0>)\n"
     ]
    }
   ],
   "source": [
    "print(\"\\n Now let's compare the observed and predicted values...\")\n",
    "print(\"Company A: Observed = 0, Predicted =\", model(torch.tensor([0., 0.5, 0.25, 1.])))"
   ]
  },
  {
   "cell_type": "markdown",
   "metadata": {},
   "source": [
    "The Prediction is worse than what we started with"
   ]
  },
  {
   "cell_type": "code",
   "execution_count": 8,
   "metadata": {},
   "outputs": [
    {
     "name": "stdout",
     "output_type": "stream",
     "text": [
      "\n",
      " Now let's compare the observed and predicted values...\n",
      "Company A: Observed = 1, Predicted = tensor(0.4887, grad_fn=<TanhBackward0>)\n"
     ]
    }
   ],
   "source": [
    "print(\"\\n Now let's compare the observed and predicted values...\")\n",
    "print(\"Company A: Observed = 1, Predicted =\", model(torch.tensor([1., 0.5, 0.25, 1.])))"
   ]
  },
  {
   "cell_type": "markdown",
   "metadata": {},
   "source": [
    "The prediction is a bit better"
   ]
  },
  {
   "cell_type": "markdown",
   "metadata": {},
   "source": [
    "We can now use tensorboard to see what has happened in the log files. So we can know if we want to continue triaing"
   ]
  },
  {
   "cell_type": "code",
   "execution_count": 9,
   "metadata": {},
   "outputs": [
    {
     "name": "stderr",
     "output_type": "stream",
     "text": [
      "GPU available: True (mps), used: True\n",
      "TPU available: False, using: 0 TPU cores\n",
      "HPU available: False, using: 0 HPUs\n",
      "Restoring states from the checkpoint path at /Users/naomigong/Coding/ML Projects/Pytorch_Quest/lightning_logs/version_15/checkpoints/epoch=1999-step=4000.ckpt\n",
      "/opt/anaconda3/lib/python3.12/site-packages/lightning/pytorch/callbacks/model_checkpoint.py:362: The dirpath has changed from '/Users/naomigong/Coding/ML Projects/Pytorch_Quest/lightning_logs/version_15/checkpoints' to '/Users/naomigong/Coding/ML Projects/Pytorch_Quest/lightning_logs/version_18/checkpoints', therefore `best_model_score`, `kth_best_model_path`, `kth_value`, `last_model_path` and `best_k_models` won't be reloaded. Only `best_model_path` will be reloaded.\n",
      "\n",
      "  | Name         | Type | Params | Mode\n",
      "---------------------------------------------\n",
      "  | other params | n/a  | 12     | n/a \n",
      "---------------------------------------------\n",
      "12        Trainable params\n",
      "0         Non-trainable params\n",
      "12        Total params\n",
      "0.000     Total estimated model params size (MB)\n",
      "0         Modules in train mode\n",
      "0         Modules in eval mode\n",
      "Restored all states from the checkpoint at /Users/naomigong/Coding/ML Projects/Pytorch_Quest/lightning_logs/version_15/checkpoints/epoch=1999-step=4000.ckpt\n"
     ]
    },
    {
     "data": {
      "application/vnd.jupyter.widget-view+json": {
       "model_id": "52b1514691544ca4b6f8571c083cefc3",
       "version_major": 2,
       "version_minor": 0
      },
      "text/plain": [
       "Training: |          | 0/? [00:00<?, ?it/s]"
      ]
     },
     "metadata": {},
     "output_type": "display_data"
    },
    {
     "name": "stderr",
     "output_type": "stream",
     "text": [
      "`Trainer.fit` stopped: `max_epochs=3000` reached.\n"
     ]
    }
   ],
   "source": [
    "#add additonal epochs\n",
    "path_to_best_checkpoint = trainer.checkpoint_callbacks[0].best_model_path\n",
    "trainer = L.Trainer(max_epochs = 3000)\n",
    "trainer.fit(model, train_dataloaders= dataloader, ckpt_path= path_to_best_checkpoint)"
   ]
  },
  {
   "cell_type": "code",
   "execution_count": 10,
   "metadata": {},
   "outputs": [
    {
     "name": "stdout",
     "output_type": "stream",
     "text": [
      "\n",
      " Now let's compare the observed and predicted values...\n",
      "Company A: Observed = 0, Predicted = tensor(0.4980, grad_fn=<TanhBackward0>)\n"
     ]
    }
   ],
   "source": [
    "print(\"\\n Now let's compare the observed and predicted values...\")\n",
    "print(\"Company A: Observed = 0, Predicted =\", model(torch.tensor([0., 0.5, 0.25, 1.])))"
   ]
  }
 ],
 "metadata": {
  "kernelspec": {
   "display_name": "base",
   "language": "python",
   "name": "python3"
  },
  "language_info": {
   "codemirror_mode": {
    "name": "ipython",
    "version": 3
   },
   "file_extension": ".py",
   "mimetype": "text/x-python",
   "name": "python",
   "nbconvert_exporter": "python",
   "pygments_lexer": "ipython3",
   "version": "3.12.2"
  }
 },
 "nbformat": 4,
 "nbformat_minor": 2
}
